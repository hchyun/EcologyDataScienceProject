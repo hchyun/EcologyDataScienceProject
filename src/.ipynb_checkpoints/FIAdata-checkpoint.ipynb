{
 "cells": [
  {
   "cell_type": "code",
   "execution_count": 252,
   "metadata": {
    "collapsed": true
   },
   "outputs": [],
   "source": [
    "import csv\n",
    "import pandas as pd\n",
    "import sqlite3\n",
    "import numpy as np\n",
    "import os\n",
    "import sys\n",
    "import math"
   ]
  },
  {
   "cell_type": "code",
   "execution_count": 3,
   "metadata": {
    "collapsed": true
   },
   "outputs": [],
   "source": [
    "database = '../fia.sqlite'\n",
    "conn = sqlite3.connect(database)"
   ]
  },
  {
   "cell_type": "code",
   "execution_count": 4,
   "metadata": {
    "collapsed": true
   },
   "outputs": [],
   "source": [
    "sql = \"SELECT plott.statecd, plott.unitcd, plott.countycd, plott.plot, lat, lon, AVG(slope), AVG(aspect), MAX(elev) FROM forest_inventory_analysis_COND as cond JOIN forest_inventory_analysis_PLOT as plott ON cond.statecd == plott.statecd AND cond.unitcd == plott.unitcd AND cond.countycd == plott.countycd AND cond.plot == plott.plot WHERE slope != '' AND elev != '' AND aspect != '' GROUP BY plott.statecd, plott.unitcd, plott.countycd, plott.plot\"\n",
    "fia_climate = pd.read_sql_query(sql, conn)"
   ]
  },
  {
   "cell_type": "code",
   "execution_count": 5,
   "metadata": {
    "collapsed": true
   },
   "outputs": [],
   "source": [
    "#Getting all predictor values\n",
    "Neon_Domain3 = pd.read_csv(\"../data/domain3.csv\")\n",
    "bioclim = pd.read_csv(\"../data/bioclim_fia.csv\")\n",
    "bioclim.drop('Unnamed: 0', axis=1, inplace=True)"
   ]
  },
  {
   "cell_type": "code",
   "execution_count": 6,
   "metadata": {
    "collapsed": true
   },
   "outputs": [],
   "source": [
    "sql = \"SELECT COUNT(*) ,spcd, statecd, unitcd, countycd, plot, invyr FROM forest_inventory_analysis_TREE GROUP BY spcd, statecd, unitcd, countycd, plot\"\n",
    "fia_response = pd.read_sql_query(sql, conn)"
   ]
  },
  {
   "cell_type": "code",
   "execution_count": 7,
   "metadata": {
    "collapsed": true
   },
   "outputs": [],
   "source": [
    "conn.close()"
   ]
  },
  {
   "cell_type": "code",
   "execution_count": 161,
   "metadata": {
    "collapsed": true
   },
   "outputs": [],
   "source": [
    "'''\n",
    "@param \n",
    "df: the left data frame\n",
    "df2: the right data frame\n",
    "merge: the colunms to merge the data frames\n",
    "join_kind: type of join on the two data frames (left, inner, right, outer)\n",
    "@return \n",
    "final_df: a data frame that is a combination of the two data frames\n",
    "'''\n",
    "def format_predictors(df, df2=None, merge=[\"statecd\",\"unitcd\",\"countycd\",\"plot\"], join_kind=\"left\"):\n",
    "    df.columns = map(str.lower, df.columns)\n",
    "    if(df2.equals(None)):\n",
    "        #merging all of the duplicate rows\n",
    "        final_df = df.groupby(merge, as_index=False).mean()\n",
    "    else:\n",
    "        #renaming columns to lowercase\n",
    "        df2.columns = map(str.lower, df2.columns)\n",
    "        final_df = pd.merge(df, df2, on=merge, how=join_kind)\n",
    "        final_df = final_df.groupby(merge, as_index=False).mean()\n",
    "        #adding primary key for the plots\n",
    "        final_df['id_coords'] = final_df.apply(lambda row: str(int(row.statecd)) + '_' + str(int(row.unitcd)) + '_' + str(int(row.countycd)) + '_' + str(int(row[3])), axis=1)\n",
    "        #for duplicate lat and lon in the data frames dropping one of them and renaming the other\n",
    "    if \"lat_x\" in final_df.columns:\n",
    "        final_df.drop([\"lat_y\", \"lon_y\"], axis=1, inplace=True)\n",
    "        final_df.rename(columns={\"lat_x\":\"lat\",\"lon_x\":\"lon\"},inplace=True)\n",
    "    return final_df"
   ]
  },
  {
   "cell_type": "code",
   "execution_count": 162,
   "metadata": {
    "collapsed": true
   },
   "outputs": [],
   "source": [
    "neon_domain3 = format_predictors(Neon_Domain3, fia_climate)\n",
    "neon_climate = format_predictors(neon_domain3, bioclim)\n",
    "cont_climate = format_predictors(fia_climate,bioclim)"
   ]
  },
  {
   "cell_type": "code",
   "execution_count": 253,
   "metadata": {
    "collapsed": true
   },
   "outputs": [],
   "source": [
    "def kmvar(df):\n",
    "    module_path = os.path.abspath(os.path.join('../Same-Size-K-Means/'))\n",
    "    if module_path not in sys.path:\n",
    "        sys.path.append(module_path)\n",
    "    from clustering.equal_groups import EqualGroupsKMeans\n",
    "    clf = EqualGroupsKMeans(n_clusters=int(math.ceil(df.shape[0]/16)), random_state=0)\n",
    "    clf.fit(df)\n",
    "    df['labels'] = clf.labels_\n",
    "    return np.array(df['labels'])"
   ]
  },
  {
   "cell_type": "code",
   "execution_count": 254,
   "metadata": {},
   "outputs": [],
   "source": [
    "'''\n",
    "@param\n",
    "df: the data frame of the predictors\n",
    "cols_to_cluster: columns to cluster the data frame by\n",
    "group_by: columns to split the data frames by\n",
    "predictors: the column name of the predictors to average in the clusters\n",
    "id_coord_dict: a dictionary that stores the key: id_coords and value: row number in the data frame\n",
    "@return\n",
    "A data frame that has the clustered plots as a single row\n",
    "'''    \n",
    "    \n",
    "def cluster_plots(df, cols_to_cluster, id_coord_dict, group_by=[\"statecd\",\"unitcd\"]):\n",
    "    clustered_df = pd.DataFrame(columns=df.columns[:-1])\n",
    "    id_list = df['id_coords']\n",
    "    grouped_df = [x for x in df.loc[:, df.columns!='id_coords'].groupby(group_by)]\n",
    "    r = 0\n",
    "    for group in grouped_df:\n",
    "        temp = group[1].loc[:,['lat','lon']]\n",
    "        clust_group = kmvar(temp)\n",
    "        #largest number in the cluster identifiers is the number of clusters\n",
    "        num = max(clust_group)\n",
    "        print(clust_group)\n",
    "        for i in range(num):\n",
    "            ii = np.where(clust_group == i)\n",
    "            print(ii[0])\n",
    "            if(ii[0].size == 16):\n",
    "                add_df = group[1].loc[ii[0]].mean(axis=0)\n",
    "                clustered_df.loc[r, clustered_df.columns] =add_df\n",
    "                r += 1\n",
    "                #adding all id coords as key and the row number in the clustered_df as value to the dictionary\n",
    "                for ids in id_list[ii[0]]:\n",
    "                    id_coord_dict[ids] = clustered_df.shape[0]\n",
    "    return clustered_df"
   ]
  },
  {
   "cell_type": "code",
   "execution_count": 163,
   "metadata": {
    "collapsed": true
   },
   "outputs": [],
   "source": [
    "'''\n",
    "@param\n",
    "df: data frame of the responses\n",
    "id_coord_dict: dictionary with popluated id_coords and the row of the new data frame as the value\n",
    "num_row: number of rows that the final data frame should be (equal to the cluster rows)\n",
    "@return\n",
    "rsp: data frame of the y matrix with the count of species in a plot\n",
    "'''\n",
    "def get_responses(df, id_coord_dict,num_row):\n",
    "    spc = df.spcd.unique().sort()\n",
    "    zeros = np.zeros(shape=(num_row, len(spc)))\n",
    "    rsp = pd.DataFrame(0, columns=spc, dtype=int64)\n",
    "    df['id_coords'] = df.apply(lambda row: str(int(row.statecd)) + '_' + str(int(row.unitcd)) + '_' + str(int(row.countycd)) + '_' + str(int(row[3])), axis=1)\n",
    "    for index, row in df.itterrows():\n",
    "        try:\n",
    "            i = id_coord_dict[row.id_coords]\n",
    "            rsp.at[i, str(row.spcd)] += row.count\n",
    "        except:\n",
    "            pass\n",
    "    return rsp"
   ]
  },
  {
   "cell_type": "code",
   "execution_count": 227,
   "metadata": {},
   "outputs": [
    {
     "name": "stderr",
     "output_type": "stream",
     "text": [
      "/Users/hyunchoi/anaconda3/lib/python3.6/site-packages/ipykernel_launcher.py:8: SettingWithCopyWarning: \n",
      "A value is trying to be set on a copy of a slice from a DataFrame.\n",
      "Try using .loc[row_indexer,col_indexer] = value instead\n",
      "\n",
      "See the caveats in the documentation: http://pandas.pydata.org/pandas-docs/stable/indexing.html#indexing-view-versus-copy\n",
      "  \n"
     ]
    },
    {
     "ename": "KeyError",
     "evalue": "'None of [[  1   5  29  50  72  87  92 114 116 135 140 141 162 163 179 180]] are in the [index]'",
     "output_type": "error",
     "traceback": [
      "\u001b[0;31m---------------------------------------------------------------------------\u001b[0m",
      "\u001b[0;31mKeyError\u001b[0m                                  Traceback (most recent call last)",
      "\u001b[0;32m<ipython-input-227-a6d84248e0c6>\u001b[0m in \u001b[0;36m<module>\u001b[0;34m()\u001b[0m\n\u001b[1;32m      2\u001b[0m \u001b[0mcont_id_coords_dict\u001b[0m \u001b[0;34m=\u001b[0m \u001b[0;34m{\u001b[0m\u001b[0;34m}\u001b[0m\u001b[0;34m\u001b[0m\u001b[0m\n\u001b[1;32m      3\u001b[0m \u001b[0mcols_to_cluster\u001b[0m \u001b[0;34m=\u001b[0m \u001b[0;34m[\u001b[0m\u001b[0;34m\"statecd\"\u001b[0m\u001b[0;34m,\u001b[0m \u001b[0;34m\"unitcd\"\u001b[0m\u001b[0;34m]\u001b[0m\u001b[0;34m\u001b[0m\u001b[0m\n\u001b[0;32m----> 4\u001b[0;31m \u001b[0mNeon_clusters\u001b[0m \u001b[0;34m=\u001b[0m \u001b[0mcluster_plots\u001b[0m\u001b[0;34m(\u001b[0m\u001b[0mneon_climate\u001b[0m\u001b[0;34m,\u001b[0m \u001b[0mcols_to_cluster\u001b[0m\u001b[0;34m,\u001b[0m \u001b[0mNeon_id_coords_dict\u001b[0m\u001b[0;34m)\u001b[0m\u001b[0;34m\u001b[0m\u001b[0m\n\u001b[0m\u001b[1;32m      5\u001b[0m \u001b[0mcont_clusters\u001b[0m \u001b[0;34m=\u001b[0m \u001b[0mcluster_plots\u001b[0m\u001b[0;34m(\u001b[0m\u001b[0mcont_climate\u001b[0m\u001b[0;34m,\u001b[0m \u001b[0mcols_to_cluster\u001b[0m\u001b[0;34m,\u001b[0m \u001b[0mcont_id_coords_dict\u001b[0m\u001b[0;34m)\u001b[0m\u001b[0;34m\u001b[0m\u001b[0m\n",
      "\u001b[0;32m<ipython-input-226-3ef00275d720>\u001b[0m in \u001b[0;36mcluster_plots\u001b[0;34m(df, cols_to_cluster, id_coord_dict, group_by)\u001b[0m\n\u001b[1;32m     21\u001b[0m         \u001b[0;32mfor\u001b[0m \u001b[0mi\u001b[0m \u001b[0;32min\u001b[0m \u001b[0mrange\u001b[0m\u001b[0;34m(\u001b[0m\u001b[0mnum\u001b[0m\u001b[0;34m)\u001b[0m\u001b[0;34m:\u001b[0m\u001b[0;34m\u001b[0m\u001b[0m\n\u001b[1;32m     22\u001b[0m             \u001b[0mii\u001b[0m \u001b[0;34m=\u001b[0m \u001b[0mnp\u001b[0m\u001b[0;34m.\u001b[0m\u001b[0mwhere\u001b[0m\u001b[0;34m(\u001b[0m\u001b[0mclust_group\u001b[0m \u001b[0;34m==\u001b[0m \u001b[0mi\u001b[0m\u001b[0;34m)\u001b[0m\u001b[0;34m\u001b[0m\u001b[0m\n\u001b[0;32m---> 23\u001b[0;31m             \u001b[0madd_df\u001b[0m \u001b[0;34m=\u001b[0m \u001b[0mgroup\u001b[0m\u001b[0;34m[\u001b[0m\u001b[0;36m1\u001b[0m\u001b[0;34m]\u001b[0m\u001b[0;34m.\u001b[0m\u001b[0mloc\u001b[0m\u001b[0;34m[\u001b[0m\u001b[0mii\u001b[0m\u001b[0;34m[\u001b[0m\u001b[0;36m0\u001b[0m\u001b[0;34m]\u001b[0m\u001b[0;34m]\u001b[0m\u001b[0;34m.\u001b[0m\u001b[0mmean\u001b[0m\u001b[0;34m(\u001b[0m\u001b[0maxis\u001b[0m\u001b[0;34m=\u001b[0m\u001b[0;36m0\u001b[0m\u001b[0;34m)\u001b[0m\u001b[0;34m\u001b[0m\u001b[0m\n\u001b[0m\u001b[1;32m     24\u001b[0m             \u001b[0mclustered_df\u001b[0m \u001b[0;34m=\u001b[0m \u001b[0mclustered_df\u001b[0m\u001b[0;34m.\u001b[0m\u001b[0mappend\u001b[0m\u001b[0;34m(\u001b[0m\u001b[0madd_df\u001b[0m\u001b[0;34m,\u001b[0m \u001b[0mignore_index\u001b[0m\u001b[0;34m=\u001b[0m\u001b[0;32mTrue\u001b[0m\u001b[0;34m)\u001b[0m\u001b[0;34m\u001b[0m\u001b[0m\n\u001b[1;32m     25\u001b[0m             \u001b[0;31m#adding all id coords as key and the row number in the clustered_df as value to the dictionary\u001b[0m\u001b[0;34m\u001b[0m\u001b[0;34m\u001b[0m\u001b[0m\n",
      "\u001b[0;32m~/anaconda3/lib/python3.6/site-packages/pandas/core/indexing.py\u001b[0m in \u001b[0;36m__getitem__\u001b[0;34m(self, key)\u001b[0m\n\u001b[1;32m   1326\u001b[0m         \u001b[0;32melse\u001b[0m\u001b[0;34m:\u001b[0m\u001b[0;34m\u001b[0m\u001b[0m\n\u001b[1;32m   1327\u001b[0m             \u001b[0mkey\u001b[0m \u001b[0;34m=\u001b[0m \u001b[0mcom\u001b[0m\u001b[0;34m.\u001b[0m\u001b[0m_apply_if_callable\u001b[0m\u001b[0;34m(\u001b[0m\u001b[0mkey\u001b[0m\u001b[0;34m,\u001b[0m \u001b[0mself\u001b[0m\u001b[0;34m.\u001b[0m\u001b[0mobj\u001b[0m\u001b[0;34m)\u001b[0m\u001b[0;34m\u001b[0m\u001b[0m\n\u001b[0;32m-> 1328\u001b[0;31m             \u001b[0;32mreturn\u001b[0m \u001b[0mself\u001b[0m\u001b[0;34m.\u001b[0m\u001b[0m_getitem_axis\u001b[0m\u001b[0;34m(\u001b[0m\u001b[0mkey\u001b[0m\u001b[0;34m,\u001b[0m \u001b[0maxis\u001b[0m\u001b[0;34m=\u001b[0m\u001b[0;36m0\u001b[0m\u001b[0;34m)\u001b[0m\u001b[0;34m\u001b[0m\u001b[0m\n\u001b[0m\u001b[1;32m   1329\u001b[0m \u001b[0;34m\u001b[0m\u001b[0m\n\u001b[1;32m   1330\u001b[0m     \u001b[0;32mdef\u001b[0m \u001b[0m_is_scalar_access\u001b[0m\u001b[0;34m(\u001b[0m\u001b[0mself\u001b[0m\u001b[0;34m,\u001b[0m \u001b[0mkey\u001b[0m\u001b[0;34m)\u001b[0m\u001b[0;34m:\u001b[0m\u001b[0;34m\u001b[0m\u001b[0m\n",
      "\u001b[0;32m~/anaconda3/lib/python3.6/site-packages/pandas/core/indexing.py\u001b[0m in \u001b[0;36m_getitem_axis\u001b[0;34m(self, key, axis)\u001b[0m\n\u001b[1;32m   1539\u001b[0m                     \u001b[0;32mraise\u001b[0m \u001b[0mValueError\u001b[0m\u001b[0;34m(\u001b[0m\u001b[0;34m'Cannot index with multidimensional key'\u001b[0m\u001b[0;34m)\u001b[0m\u001b[0;34m\u001b[0m\u001b[0m\n\u001b[1;32m   1540\u001b[0m \u001b[0;34m\u001b[0m\u001b[0m\n\u001b[0;32m-> 1541\u001b[0;31m                 \u001b[0;32mreturn\u001b[0m \u001b[0mself\u001b[0m\u001b[0;34m.\u001b[0m\u001b[0m_getitem_iterable\u001b[0m\u001b[0;34m(\u001b[0m\u001b[0mkey\u001b[0m\u001b[0;34m,\u001b[0m \u001b[0maxis\u001b[0m\u001b[0;34m=\u001b[0m\u001b[0maxis\u001b[0m\u001b[0;34m)\u001b[0m\u001b[0;34m\u001b[0m\u001b[0m\n\u001b[0m\u001b[1;32m   1542\u001b[0m \u001b[0;34m\u001b[0m\u001b[0m\n\u001b[1;32m   1543\u001b[0m             \u001b[0;31m# nested tuple slicing\u001b[0m\u001b[0;34m\u001b[0m\u001b[0;34m\u001b[0m\u001b[0m\n",
      "\u001b[0;32m~/anaconda3/lib/python3.6/site-packages/pandas/core/indexing.py\u001b[0m in \u001b[0;36m_getitem_iterable\u001b[0;34m(self, key, axis)\u001b[0m\n\u001b[1;32m   1079\u001b[0m     \u001b[0;32mdef\u001b[0m \u001b[0m_getitem_iterable\u001b[0m\u001b[0;34m(\u001b[0m\u001b[0mself\u001b[0m\u001b[0;34m,\u001b[0m \u001b[0mkey\u001b[0m\u001b[0;34m,\u001b[0m \u001b[0maxis\u001b[0m\u001b[0;34m=\u001b[0m\u001b[0;36m0\u001b[0m\u001b[0;34m)\u001b[0m\u001b[0;34m:\u001b[0m\u001b[0;34m\u001b[0m\u001b[0m\n\u001b[1;32m   1080\u001b[0m         \u001b[0;32mif\u001b[0m \u001b[0mself\u001b[0m\u001b[0;34m.\u001b[0m\u001b[0m_should_validate_iterable\u001b[0m\u001b[0;34m(\u001b[0m\u001b[0maxis\u001b[0m\u001b[0;34m)\u001b[0m\u001b[0;34m:\u001b[0m\u001b[0;34m\u001b[0m\u001b[0m\n\u001b[0;32m-> 1081\u001b[0;31m             \u001b[0mself\u001b[0m\u001b[0;34m.\u001b[0m\u001b[0m_has_valid_type\u001b[0m\u001b[0;34m(\u001b[0m\u001b[0mkey\u001b[0m\u001b[0;34m,\u001b[0m \u001b[0maxis\u001b[0m\u001b[0;34m)\u001b[0m\u001b[0;34m\u001b[0m\u001b[0m\n\u001b[0m\u001b[1;32m   1082\u001b[0m \u001b[0;34m\u001b[0m\u001b[0m\n\u001b[1;32m   1083\u001b[0m         \u001b[0mlabels\u001b[0m \u001b[0;34m=\u001b[0m \u001b[0mself\u001b[0m\u001b[0;34m.\u001b[0m\u001b[0mobj\u001b[0m\u001b[0;34m.\u001b[0m\u001b[0m_get_axis\u001b[0m\u001b[0;34m(\u001b[0m\u001b[0maxis\u001b[0m\u001b[0;34m)\u001b[0m\u001b[0;34m\u001b[0m\u001b[0m\n",
      "\u001b[0;32m~/anaconda3/lib/python3.6/site-packages/pandas/core/indexing.py\u001b[0m in \u001b[0;36m_has_valid_type\u001b[0;34m(self, key, axis)\u001b[0m\n\u001b[1;32m   1416\u001b[0m \u001b[0;34m\u001b[0m\u001b[0m\n\u001b[1;32m   1417\u001b[0m                 raise KeyError(\"None of [%s] are in the [%s]\" %\n\u001b[0;32m-> 1418\u001b[0;31m                                (key, self.obj._get_axis_name(axis)))\n\u001b[0m\u001b[1;32m   1419\u001b[0m \u001b[0;34m\u001b[0m\u001b[0m\n\u001b[1;32m   1420\u001b[0m             \u001b[0;32mreturn\u001b[0m \u001b[0;32mTrue\u001b[0m\u001b[0;34m\u001b[0m\u001b[0m\n",
      "\u001b[0;31mKeyError\u001b[0m: 'None of [[  1   5  29  50  72  87  92 114 116 135 140 141 162 163 179 180]] are in the [index]'"
     ]
    }
   ],
   "source": [
    "Neon_id_coords_dict = {}\n",
    "cont_id_coords_dict = {}\n",
    "cols_to_cluster = [\"statecd\", \"unitcd\"]\n",
    "Neon_clusters = cluster_plots(neon_climate, cols_to_cluster, Neon_id_coords_dict)\n",
    "cont_clusters = cluster_plots(cont_climate, cols_to_cluster, cont_id_coords_dict)"
   ]
  },
  {
   "cell_type": "code",
   "execution_count": null,
   "metadata": {},
   "outputs": [],
   "source": [
    "Neon_resp = get_responses(fia_response, Neon_id_coords_dict, Neon_clusters.shape[0])\n",
    "cont_resp = get_responses(fia_response, cont_clusters, cont_clusters.shape[0])"
   ]
  },
  {
   "cell_type": "code",
   "execution_count": null,
   "metadata": {
    "collapsed": true
   },
   "outputs": [],
   "source": [
    "Neon_clusters.to_csv(file=\"Neon_clusters.csv\", index=False)\n",
    "cont_clusters.to_csv(file=\"cont_clusters.csv\", index=False)\n",
    "Neon_resp.to_csv(file=\"Neon_clusters.csv\", index=False)\n",
    "cont_resp.to_csv(file=\"cont_resp.csv\",index=False)"
   ]
  },
  {
   "cell_type": "code",
   "execution_count": 259,
   "metadata": {},
   "outputs": [
    {
     "name": "stderr",
     "output_type": "stream",
     "text": [
      "IOPub data rate exceeded.\n",
      "The notebook server will temporarily stop sending output\n",
      "to the client in order to avoid crashing it.\n",
      "To change this limit, set the config variable\n",
      "`--NotebookApp.iopub_data_rate_limit`.\n"
     ]
    }
   ],
   "source": [
    "neon_climate.to_csv(index=False)\n",
    "cont_climate.to_csv(index=False)\n",
    "fia_response.to_csv(index=False)"
   ]
  },
  {
   "cell_type": "code",
   "execution_count": 240,
   "metadata": {},
   "outputs": [
    {
     "data": {
      "text/html": [
       "<div>\n",
       "<style>\n",
       "    .dataframe thead tr:only-child th {\n",
       "        text-align: right;\n",
       "    }\n",
       "\n",
       "    .dataframe thead th {\n",
       "        text-align: left;\n",
       "    }\n",
       "\n",
       "    .dataframe tbody tr th {\n",
       "        vertical-align: top;\n",
       "    }\n",
       "</style>\n",
       "<table border=\"1\" class=\"dataframe\">\n",
       "  <thead>\n",
       "    <tr style=\"text-align: right;\">\n",
       "      <th></th>\n",
       "      <th>statecd</th>\n",
       "      <th>unitcd</th>\n",
       "      <th>countycd</th>\n",
       "      <th>plot</th>\n",
       "      <th>lat</th>\n",
       "      <th>lon</th>\n",
       "      <th>elev_x</th>\n",
       "      <th>avg(slope)</th>\n",
       "      <th>avg(aspect)</th>\n",
       "      <th>max(elev)</th>\n",
       "      <th>...</th>\n",
       "      <th>mtwarm</th>\n",
       "      <th>mtcold</th>\n",
       "      <th>prec</th>\n",
       "      <th>precwet</th>\n",
       "      <th>precdry</th>\n",
       "      <th>precseason</th>\n",
       "      <th>precwec_quart</th>\n",
       "      <th>precdry_quart</th>\n",
       "      <th>precwarm_quart</th>\n",
       "      <th>preccold_quart</th>\n",
       "    </tr>\n",
       "  </thead>\n",
       "  <tbody>\n",
       "    <tr>\n",
       "      <th>0</th>\n",
       "      <td>1</td>\n",
       "      <td>1</td>\n",
       "      <td>3</td>\n",
       "      <td>36.9375</td>\n",
       "      <td>30.801</td>\n",
       "      <td>-87.686</td>\n",
       "      <td>98.75</td>\n",
       "      <td>2.25758</td>\n",
       "      <td>66.2727</td>\n",
       "      <td>97.2727</td>\n",
       "      <td>...</td>\n",
       "      <td>26.7708</td>\n",
       "      <td>10.9031</td>\n",
       "      <td>1657.5</td>\n",
       "      <td>188.562</td>\n",
       "      <td>88.8125</td>\n",
       "      <td>19.8342</td>\n",
       "      <td>500.5</td>\n",
       "      <td>326.375</td>\n",
       "      <td>495.438</td>\n",
       "      <td>405.125</td>\n",
       "    </tr>\n",
       "  </tbody>\n",
       "</table>\n",
       "<p>1 rows × 30 columns</p>\n",
       "</div>"
      ],
      "text/plain": [
       "  statecd unitcd countycd     plot     lat     lon elev_x avg(slope)  \\\n",
       "0       1      1        3  36.9375  30.801 -87.686  98.75    2.25758   \n",
       "\n",
       "  avg(aspect) max(elev)      ...         mtwarm   mtcold    prec  precwet  \\\n",
       "0     66.2727   97.2727      ...        26.7708  10.9031  1657.5  188.562   \n",
       "\n",
       "   precdry precseason precwec_quart precdry_quart precwarm_quart  \\\n",
       "0  88.8125    19.8342         500.5       326.375        495.438   \n",
       "\n",
       "  preccold_quart  \n",
       "0        405.125  \n",
       "\n",
       "[1 rows x 30 columns]"
      ]
     },
     "execution_count": 240,
     "metadata": {},
     "output_type": "execute_result"
    }
   ],
   "source": []
  }
 ],
 "metadata": {
  "kernelspec": {
   "display_name": "Python 3",
   "language": "python",
   "name": "python3"
  },
  "language_info": {
   "codemirror_mode": {
    "name": "ipython",
    "version": 3
   },
   "file_extension": ".py",
   "mimetype": "text/x-python",
   "name": "python",
   "nbconvert_exporter": "python",
   "pygments_lexer": "ipython3",
   "version": "3.6.3"
  }
 },
 "nbformat": 4,
 "nbformat_minor": 2
}
